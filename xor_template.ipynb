{
  "nbformat": 4,
  "nbformat_minor": 0,
  "metadata": {
    "colab": {
      "name": "xor_template.ipynb",
      "provenance": [],
      "collapsed_sections": [],
      "authorship_tag": "ABX9TyN5iGnFHOPxXOpeCoEVze6z",
      "include_colab_link": true
    },
    "kernelspec": {
      "name": "python3",
      "display_name": "Python 3"
    }
  },
  "cells": [
    {
      "cell_type": "markdown",
      "metadata": {
        "id": "view-in-github",
        "colab_type": "text"
      },
      "source": [
        "<a href=\"https://colab.research.google.com/github/FCUAI/Basic-ML/blob/main/xor_template.ipynb\" target=\"_parent\"><img src=\"https://colab.research.google.com/assets/colab-badge.svg\" alt=\"Open In Colab\"/></a>"
      ]
    },
    {
      "cell_type": "markdown",
      "metadata": {
        "id": "UKoiFxnVlHBo"
      },
      "source": [
        "# 填充題"
      ]
    },
    {
      "cell_type": "code",
      "metadata": {
        "id": "rlIk0aXGUuhb"
      },
      "source": [
        "import numpy as np"
      ],
      "execution_count": null,
      "outputs": []
    },
    {
      "cell_type": "markdown",
      "metadata": {
        "id": "jIxvYn8cVwln"
      },
      "source": [
        "## 定義全連接層(Full-connected Layer)"
      ]
    },
    {
      "cell_type": "code",
      "metadata": {
        "id": "JsVC8Lghwz5z"
      },
      "source": [
        "class FCLayer:\r\n",
        "    def __init__(self, input_n, output_n):\r\n",
        "        self.weights = np.random.random(size=(output_n, input_n))\r\n",
        "        self.biases = np.random.random(size=output_n)\r\n",
        "\r\n",
        "    def forward(self, x):\r\n",
        "        return np.dot(self.weights, x) + self.biases\r\n"
      ],
      "execution_count": null,
      "outputs": []
    },
    {
      "cell_type": "markdown",
      "metadata": {
        "id": "zloj34LkWL4f"
      },
      "source": [
        "## 定義激勵函數"
      ]
    },
    {
      "cell_type": "code",
      "metadata": {
        "colab": {
          "base_uri": "https://localhost:8080/"
        },
        "id": "asCsJHtlUtS0",
        "outputId": "0d1385b0-f9ee-4160-9192-06664041419d"
      },
      "source": [
        "# 寫一個function去滿足Test的條件\r\n",
        "\r\n",
        "# Test\r\n",
        "assert G(2) == 1, '錯了!'\r\n",
        "assert G(0.5) == 1, '錯了!'\r\n",
        "assert G(-1) == 0, '錯了!'\r\n",
        "print('正確!')"
      ],
      "execution_count": null,
      "outputs": [
        {
          "output_type": "stream",
          "text": [
            "正確!\n"
          ],
          "name": "stdout"
        }
      ]
    },
    {
      "cell_type": "markdown",
      "metadata": {
        "id": "eP63301teu7g"
      },
      "source": [
        "## 宣告隱藏層(Hidden Layer)"
      ]
    },
    {
      "cell_type": "code",
      "metadata": {
        "id": "TB2DCX1fYPoo"
      },
      "source": [
        "fc1 = FCLayer(input_n=, output_n=) # 兩個輸入, 兩個神經元\r\n",
        "# 把 weight都改成 1\r\n",
        "fc1.weights = \r\n",
        "# 改 bias\r\n",
        "fc1.biases = "
      ],
      "execution_count": null,
      "outputs": []
    },
    {
      "cell_type": "markdown",
      "metadata": {
        "id": "m2XW2QC9exqQ"
      },
      "source": [
        "## 宣告輸出層(Output Layer)"
      ]
    },
    {
      "cell_type": "code",
      "metadata": {
        "id": "3PQc6aFhbttU"
      },
      "source": [
        "fc2 = FCLayer(, ) # 兩個輸入, 一個神經元\r\n",
        "# 改 weight\r\n",
        "fc2.weights = \r\n",
        "# 改 bias\r\n",
        "fc2.biases = "
      ],
      "execution_count": null,
      "outputs": []
    },
    {
      "cell_type": "markdown",
      "metadata": {
        "id": "DNFVZC91f7_D"
      },
      "source": [
        "## 測試"
      ]
    },
    {
      "cell_type": "code",
      "metadata": {
        "colab": {
          "base_uri": "https://localhost:8080/"
        },
        "id": "P93GSvn4f7n4",
        "outputId": "b23d2eb9-94ed-479c-c364-4fc77b529b59"
      },
      "source": [
        "for x in [[0,0], [0,1], [1,0], [1,1]]:\r\n",
        "    fc1_output = fc1.forward(x)\r\n",
        "    fc1_g_output = G(fc1_output)\r\n",
        "    fc2_output = fc2.forward(fc1_g_output)\r\n",
        "    fc2_g_output = G(fc2_output)\r\n",
        "    print(f'{x} -FC1-> {fc1_output} -G-> {fc1_g_output} -FC2-> {fc2_output} -G-> {fc2_g_output}')"
      ],
      "execution_count": null,
      "outputs": [
        {
          "output_type": "stream",
          "text": [
            "[0, 0] -FC1-> [-0.5 -1.5] -G-> [0 0] -FC2-> [-0.5] -G-> [0]\n",
            "[0, 1] -FC1-> [ 0.5 -0.5] -G-> [1 0] -FC2-> [0.5] -G-> [1]\n",
            "[1, 0] -FC1-> [ 0.5 -0.5] -G-> [1 0] -FC2-> [0.5] -G-> [1]\n",
            "[1, 1] -FC1-> [1.5 0.5] -G-> [1 1] -FC2-> [-1.5] -G-> [0]\n"
          ],
          "name": "stdout"
        }
      ]
    }
  ]
}